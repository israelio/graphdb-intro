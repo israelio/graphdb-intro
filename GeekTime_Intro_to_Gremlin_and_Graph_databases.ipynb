{
 "cells": [
  {
   "cell_type": "markdown",
   "id": "6d0c971b",
   "metadata": {},
   "source": [
    "<div class=\"alert alert-block alert-info\">\n",
    "    Following is a simple tutorial about using gremlin to query graph databases\n",
    "    <br/><br/>\n",
    "    The tutorial was prepared by <a href='https://www.linkedin.com/in/ohadisraeli/'>Ohad Israeli</a> for <a href='https://code.geektime.co.il/'>GeekTime Code 2021 conference</a>\n",
    "    <br/><br/>\n",
    "    Official Gremlin documentation can be found here: <b><a href='https://tinkerpop.apache.org/docs/current/reference/'>https://tinkerpop.apache.org/docs/current/reference/</a></b>\n",
    "    <br/>\n",
    "    <br/>\n",
    "    Unofficial Gremlin book: <b><a href='http://www.kelvinlawrence.net/book/PracticalGremlin.html'>http://www.kelvinlawrence.net/book/PracticalGremlin.html</a></b>\n",
    "    <br/>\n",
    "    <br/>\n",
    "    <b>Localhost configuration</b>\n",
    "    <br/>\n",
    "    Working with a local tinkerpop / gremlin server instance\n",
    "</div>"
   ]
  },
  {
   "cell_type": "code",
   "execution_count": 130,
   "id": "66442160",
   "metadata": {},
   "outputs": [
    {
     "name": "stdout",
     "output_type": "stream",
     "text": [
      "set notebook config to:\n",
      "{\n",
      "  \"host\": \"gremlin\",\n",
      "  \"port\": 8182,\n",
      "  \"auth_mode\": \"DEFAULT\",\n",
      "  \"load_from_s3_arn\": \"\",\n",
      "  \"ssl\": false,\n",
      "  \"aws_region\": \"us-east-1\",\n",
      "  \"sparql\": {\n",
      "    \"path\": \"sparql\"\n",
      "  }\n",
      "}\n"
     ]
    },
    {
     "data": {
      "text/plain": [
       "<graph_notebook.configuration.generate_config.Configuration at 0x7f2670adf390>"
      ]
     },
     "execution_count": 130,
     "metadata": {},
     "output_type": "execute_result"
    }
   ],
   "source": [
    "%%graph_notebook_config\n",
    "{\n",
    "\"host\": \"gremlin\",\n",
    "\"port\": 8182,\n",
    "\"auth_mode\": \"DEFAULT\",\n",
    "\"iam_credentials_provider_type\": \"ROLE\",\n",
    "\"load_from_s3_arn\": \"\",\n",
    "\"ssl\": false,\n",
    "\"aws_region\": \"us-east-1\"\n",
    "}"
   ]
  },
  {
   "cell_type": "markdown",
   "id": "62154a53",
   "metadata": {},
   "source": [
    "<div class=\"alert alert-block alert-info\">\n",
    "    <b>Add Users example</b>\n",
    "    <br/>\n",
    "    <br/>\n",
    "Clean all vertex (nodes) and edges (links) from the database\n",
    "</div>"
   ]
  },
  {
   "cell_type": "code",
   "execution_count": 222,
   "id": "ce6ce89c",
   "metadata": {},
   "outputs": [
    {
     "data": {
      "application/vnd.jupyter.widget-view+json": {
       "model_id": "9770ec3bd71249619e1db6500a84a429",
       "version_major": 2,
       "version_minor": 0
      },
      "text/plain": [
       "Tab(children=(Output(layout=Layout(max_height='600px', overflow='scroll', width='100%')), Output(layout=Layout…"
      ]
     },
     "metadata": {},
     "output_type": "display_data"
    }
   ],
   "source": [
    "%%gremlin\n",
    "g.V().drop().iterate()\n",
    "g.E().drop()\n"
   ]
  },
  {
   "cell_type": "markdown",
   "id": "e5b2d619",
   "metadata": {},
   "source": [
    "<div class=\"alert alert-block alert-info\">\n",
    "Lets add a vertex (node) for user ohad\n",
    "</div>"
   ]
  },
  {
   "cell_type": "code",
   "execution_count": 211,
   "id": "a0c45d60",
   "metadata": {},
   "outputs": [
    {
     "data": {
      "application/vnd.jupyter.widget-view+json": {
       "model_id": "e5fdb3a2ebdd40bfa1cd4c6313025f88",
       "version_major": 2,
       "version_minor": 0
      },
      "text/plain": [
       "Tab(children=(Output(layout=Layout(max_height='600px', overflow='scroll', width='100%')), Output(layout=Layout…"
      ]
     },
     "metadata": {},
     "output_type": "display_data"
    }
   ],
   "source": [
    "%%gremlin\n",
    "\n",
    "g.addV('ohad')\n",
    "    .property(id,'user-ohad') // <-- index\n",
    "    .property('type','user')\n",
    "    .property('name','ohad')\n",
    "    .property('company','NI')\n",
    "    .next()"
   ]
  },
  {
   "cell_type": "markdown",
   "id": "d5a8f13d",
   "metadata": {},
   "source": [
    "<div class=\"alert alert-block alert-info\">\n",
    "Add more vertex (nodes) for other users\n",
    "</div>"
   ]
  },
  {
   "cell_type": "code",
   "execution_count": 212,
   "id": "72136517",
   "metadata": {},
   "outputs": [
    {
     "data": {
      "application/vnd.jupyter.widget-view+json": {
       "model_id": "1759d5d48d3e43cabff59ee23947e520",
       "version_major": 2,
       "version_minor": 0
      },
      "text/plain": [
       "Tab(children=(Output(layout=Layout(max_height='600px', overflow='scroll', width='100%')), Output(layout=Layout…"
      ]
     },
     "metadata": {},
     "output_type": "display_data"
    }
   ],
   "source": [
    "%%gremlin\n",
    "\n",
    "// add lior\n",
    "g.addV('lior')\n",
    "    .property(id,'user-lior')\n",
    "    .property('type','user')\n",
    "    .property('name','lior')\n",
    "    .property('company','NI')\n",
    "    .next()\n",
    "\n",
    "// add tal\n",
    "g.addV('tal')\n",
    "    .property(id,'user-tal')\n",
    "    .property('type','user')\n",
    "    .property('name','tal')\n",
    "    .property('company','Proofpoint')\n",
    "    .next()\n",
    "\n",
    "// add daniel\n",
    "g.addV('daniel')\n",
    "    .property(id,'user-daniel')\n",
    "    .property('type','user')\n",
    "    .property('name','daniel')\n",
    "    .property('company','Proofpoint')\n",
    "    .next()"
   ]
  },
  {
   "cell_type": "markdown",
   "id": "793e1899",
   "metadata": {},
   "source": [
    "<div class=\"alert alert-block alert-info\">\n",
    "    <b>Add companies</b>\n",
    "    <br/>\n",
    "    <br/>\n",
    "    These are nodes the same as users but with different properties\n",
    "</div<"
   ]
  },
  {
   "cell_type": "code",
   "execution_count": 213,
   "id": "69b4f98c",
   "metadata": {},
   "outputs": [
    {
     "data": {
      "application/vnd.jupyter.widget-view+json": {
       "model_id": "d398ad9b94044808b07676faae5b3d50",
       "version_major": 2,
       "version_minor": 0
      },
      "text/plain": [
       "Tab(children=(Output(layout=Layout(max_height='600px', overflow='scroll', width='100%')), Output(layout=Layout…"
      ]
     },
     "metadata": {},
     "output_type": "display_data"
    }
   ],
   "source": [
    "%%gremlin\n",
    "\n",
    "g.addV('NI')\n",
    "    .property(id,'company-NI')  // <-- index\n",
    "    .property('type','company')\n",
    "    .property('name','NI')\n",
    "    .next()\n",
    "\n",
    "g.addV('Proofpoint')\n",
    "    .property(id,'company-Proofpoint')\n",
    "    .property('type','company')\n",
    "    .property('name','Proofpoint')\n",
    "    .next()"
   ]
  },
  {
   "cell_type": "markdown",
   "id": "8ced4430",
   "metadata": {},
   "source": [
    "<div class=\"alert alert-block alert-info\">\n",
    "    <b>Lets run some simple queries</b>\n",
    "    <br/>\n",
    "    <br/>\n",
    "    1. Show me all the properties of the user ohad\n",
    "</div>"
   ]
  },
  {
   "cell_type": "code",
   "execution_count": 214,
   "id": "91640a10",
   "metadata": {},
   "outputs": [
    {
     "data": {
      "application/vnd.jupyter.widget-view+json": {
       "model_id": "85a312e11908457db744474ba1967d5a",
       "version_major": 2,
       "version_minor": 0
      },
      "text/plain": [
       "Tab(children=(Output(layout=Layout(max_height='600px', overflow='scroll', width='100%')), Output(layout=Layout…"
      ]
     },
     "metadata": {},
     "output_type": "display_data"
    }
   ],
   "source": [
    "%%gremlin\n",
    "\n",
    "g.V('user-ohad')  // <-- query by index\n",
    "    .valueMap()\n",
    "    .unfold()"
   ]
  },
  {
   "cell_type": "code",
   "execution_count": 215,
   "id": "17680d9c",
   "metadata": {},
   "outputs": [
    {
     "data": {
      "application/vnd.jupyter.widget-view+json": {
       "model_id": "022007fa44004791b7cb138e1e661568",
       "version_major": 2,
       "version_minor": 0
      },
      "text/plain": [
       "Tab(children=(Output(layout=Layout(max_height='600px', overflow='scroll', width='100%')), Output(layout=Layout…"
      ]
     },
     "metadata": {},
     "output_type": "display_data"
    }
   ],
   "source": [
    "%%gremlin\n",
    "g.V()\n",
    "    .has('type','user')  // <-- query by lookup\n",
    "    .valueMap()\n",
    "    .unfold()"
   ]
  },
  {
   "cell_type": "markdown",
   "id": "812427b9",
   "metadata": {},
   "source": [
    "<div class=\"alert alert-block alert-info\">\n",
    "2. Show me the properites and thier values of the company NI\n",
    "</div>"
   ]
  },
  {
   "cell_type": "code",
   "execution_count": 217,
   "id": "16ab0cad",
   "metadata": {},
   "outputs": [
    {
     "data": {
      "application/vnd.jupyter.widget-view+json": {
       "model_id": "4b4d121dcc0c438891b066057df928dd",
       "version_major": 2,
       "version_minor": 0
      },
      "text/plain": [
       "Tab(children=(Output(layout=Layout(max_height='600px', overflow='scroll', width='100%')), Output(layout=Layout…"
      ]
     },
     "metadata": {},
     "output_type": "display_data"
    }
   ],
   "source": [
    "%%gremlin\n",
    "\n",
    "g.V('company-NI')\n",
    "    .valueMap()\n",
    "    .unfold()"
   ]
  },
  {
   "cell_type": "markdown",
   "id": "028aef68",
   "metadata": {},
   "source": [
    "<div class=\"alert alert-block alert-info\">\n",
    "    <b>Lets Add links - connect users to companies</b>\n",
    "    <br/>\n",
    "    <br/>\n",
    "    Add a link betwee the user ohad and the company NI, call the link belong\n",
    "</div>"
   ]
  },
  {
   "cell_type": "code",
   "execution_count": 218,
   "id": "05a925c0",
   "metadata": {},
   "outputs": [
    {
     "data": {
      "application/vnd.jupyter.widget-view+json": {
       "model_id": "7ff49a83d74140fca3529425b7abc29c",
       "version_major": 2,
       "version_minor": 0
      },
      "text/plain": [
       "Tab(children=(Output(layout=Layout(max_height='600px', overflow='scroll', width='100%')), Output(layout=Layout…"
      ]
     },
     "metadata": {},
     "output_type": "display_data"
    }
   ],
   "source": [
    "%%gremlin\n",
    "\n",
    "g.V('user-ohad')\n",
    "    .addE('belong')\n",
    "    .to(g.V('company-NI'))\n",
    "    .property(id,'user-ohad-belong-company-NI')\n",
    "    .property('type','belong')\n",
    "    .next()\n"
   ]
  },
  {
   "cell_type": "markdown",
   "id": "7e3f7764",
   "metadata": {},
   "source": [
    "<div class=\"alert alert-block alert-info\">\n",
    "Lets qeury the Edge (link) and its value\n",
    "</div>"
   ]
  },
  {
   "cell_type": "code",
   "execution_count": 219,
   "id": "86e8e2ae",
   "metadata": {},
   "outputs": [
    {
     "data": {
      "application/vnd.jupyter.widget-view+json": {
       "model_id": "5a1fa8551214464396274cce0d6f7273",
       "version_major": 2,
       "version_minor": 0
      },
      "text/plain": [
       "Tab(children=(Output(layout=Layout(max_height='600px', overflow='scroll', width='100%')), Output(layout=Layout…"
      ]
     },
     "metadata": {},
     "output_type": "display_data"
    }
   ],
   "source": [
    "%%gremlin\n",
    "\n",
    "g.E('user-ohad-belong-company-NI')\n",
    "    .valueMap()\n",
    "    .unfold()"
   ]
  },
  {
   "cell_type": "markdown",
   "id": "2131b69f",
   "metadata": {},
   "source": [
    "<div class=\"alert alert-block alert-info\">\n",
    "Lets link the rest of the users to thier companies\n",
    "</div>"
   ]
  },
  {
   "cell_type": "code",
   "execution_count": 220,
   "id": "22055ac6",
   "metadata": {},
   "outputs": [
    {
     "data": {
      "application/vnd.jupyter.widget-view+json": {
       "model_id": "103bbb71e3e94b8ca97581dfdf3d9502",
       "version_major": 2,
       "version_minor": 0
      },
      "text/plain": [
       "Tab(children=(Output(layout=Layout(max_height='600px', overflow='scroll', width='100%')), Output(layout=Layout…"
      ]
     },
     "metadata": {},
     "output_type": "display_data"
    }
   ],
   "source": [
    "%%gremlin\n",
    "\n",
    "g.V('user-lior')\n",
    "    .addE('belong')\n",
    "    .to(g.V('company-NI'))\n",
    "    .property(id,'user-lior-belong-company-NI')\n",
    "    .property('type','belong')\n",
    "    .next()\n",
    "\n",
    "g.V('user-tal')\n",
    "    .addE('belong')\n",
    "    .to(g.V('company-Proofpoint'))\n",
    "    .property(id,'user-tal-belong-company-Proofpoint')\n",
    "    .property('type','belong')\n",
    "    .next()\n",
    "\n",
    "g.V('user-daniel')\n",
    "    .addE('belong')\n",
    "    .to(g.V('company-Proofpoint'))\n",
    "    .property(id,'user-daniel-belong-company-Proofpoint')\n",
    "    .property('type','belong')\n",
    "    .next()"
   ]
  },
  {
   "cell_type": "markdown",
   "id": "0919bd2b",
   "metadata": {},
   "source": [
    "<div class=\"alert alert-block alert-info\">\n",
    "    <b>Query to a path between nodes</b>\n",
    "    <br/>\n",
    "    <br/>\n",
    "    1. what is the path from all nodes to all other nodes ?\n",
    "</div>"
   ]
  },
  {
   "cell_type": "code",
   "execution_count": 221,
   "id": "af2e1ac1",
   "metadata": {},
   "outputs": [
    {
     "data": {
      "application/vnd.jupyter.widget-view+json": {
       "model_id": "266e4bfda87249e7af90a52c627f8134",
       "version_major": 2,
       "version_minor": 0
      },
      "text/plain": [
       "Tab(children=(Output(layout=Layout(max_height='600px', overflow='scroll', width='100%')), Force(network=<graph…"
      ]
     },
     "metadata": {},
     "output_type": "display_data"
    }
   ],
   "source": [
    "%%gremlin\n",
    "    \n",
    "g.V()\n",
    "    .bothE()\n",
    "    .otherV()\n",
    "    .path()"
   ]
  },
  {
   "cell_type": "markdown",
   "id": "9f008116",
   "metadata": {},
   "source": [
    "<div class=\"alert alert-block alert-info\">\n",
    "2. what are the connections from user-ohad ?\n",
    "</div>"
   ]
  },
  {
   "cell_type": "code",
   "execution_count": 202,
   "id": "b95330ef",
   "metadata": {
    "scrolled": true
   },
   "outputs": [
    {
     "data": {
      "application/vnd.jupyter.widget-view+json": {
       "model_id": "8c1589fa9fd847f2b3edcde1c35d5e1f",
       "version_major": 2,
       "version_minor": 0
      },
      "text/plain": [
       "Tab(children=(Output(layout=Layout(max_height='600px', overflow='scroll', width='100%')), Force(network=<graph…"
      ]
     },
     "metadata": {},
     "output_type": "display_data"
    }
   ],
   "source": [
    "%%gremlin\n",
    "\n",
    "g.V('user-ohad')\n",
    "    .outE()\n",
    "    .otherV()\n",
    "    .path()"
   ]
  },
  {
   "cell_type": "markdown",
   "id": "69467f7d",
   "metadata": {},
   "source": [
    "<div class=\"alert alert-block alert-info\">\n",
    "3. who is connected to the company-NI ?\n",
    "</div>"
   ]
  },
  {
   "cell_type": "code",
   "execution_count": 203,
   "id": "4d6bb008",
   "metadata": {},
   "outputs": [
    {
     "data": {
      "application/vnd.jupyter.widget-view+json": {
       "model_id": "10c8c1bb45324475b2fc62180b82d3b1",
       "version_major": 2,
       "version_minor": 0
      },
      "text/plain": [
       "Tab(children=(Output(layout=Layout(max_height='600px', overflow='scroll', width='100%')), Force(network=<graph…"
      ]
     },
     "metadata": {},
     "output_type": "display_data"
    }
   ],
   "source": [
    "%%gremlin\n",
    "\n",
    "g.V('company-NI')\n",
    "    .inE()\n",
    "    .otherV()\n",
    "    .path()"
   ]
  },
  {
   "cell_type": "markdown",
   "id": "230bc384",
   "metadata": {},
   "source": [
    "<div class=\"alert alert-block alert-info\">\n",
    "4. what is company-Proofpoint connected to ?\n",
    "</div>"
   ]
  },
  {
   "cell_type": "code",
   "execution_count": 204,
   "id": "58c02dd3",
   "metadata": {
    "scrolled": true
   },
   "outputs": [
    {
     "data": {
      "application/vnd.jupyter.widget-view+json": {
       "model_id": "b7d5d9f10e494a7cb8d7e3665eacbec7",
       "version_major": 2,
       "version_minor": 0
      },
      "text/plain": [
       "Tab(children=(Output(layout=Layout(max_height='600px', overflow='scroll', width='100%')), Output(layout=Layout…"
      ]
     },
     "metadata": {},
     "output_type": "display_data"
    }
   ],
   "source": [
    "%%gremlin\n",
    "    \n",
    "g.V('company-Proofpoint')\n",
    "    .outE()\n",
    "//    .inE()\n",
    "//    .bothE()\n",
    "    .otherV()\n",
    "    .path()"
   ]
  },
  {
   "cell_type": "markdown",
   "id": "aae01406",
   "metadata": {},
   "source": [
    "<div class=\"alert alert-block alert-info\">\n",
    "    5. what are the <b>nodes</b> connected to the edge <b>user-tal-belong-company-Proofpoint</b> ?\n",
    "</div>"
   ]
  },
  {
   "cell_type": "code",
   "execution_count": 205,
   "id": "4024de23",
   "metadata": {},
   "outputs": [
    {
     "data": {
      "application/vnd.jupyter.widget-view+json": {
       "model_id": "747ce0ba4d8b4c6d94f03f48539367ed",
       "version_major": 2,
       "version_minor": 0
      },
      "text/plain": [
       "Tab(children=(Output(layout=Layout(max_height='600px', overflow='scroll', width='100%')), Output(layout=Layout…"
      ]
     },
     "metadata": {},
     "output_type": "display_data"
    }
   ],
   "source": [
    "%%gremlin\n",
    "\n",
    "g.E('user-tal-belong-company-Proofpoint')\n",
    "    .bothV()"
   ]
  },
  {
   "cell_type": "markdown",
   "id": "e681ab8d",
   "metadata": {},
   "source": [
    "<div class=\"alert alert-block alert-info\">\n",
    "    <b>Adding GeekTime conference super groug</b>\n",
    "    <br/>\n",
    "    <br/>\n",
    "    Create a new GeekTime conference node\n",
    "</div>"
   ]
  },
  {
   "cell_type": "code",
   "execution_count": 207,
   "id": "2afd0971",
   "metadata": {},
   "outputs": [
    {
     "data": {
      "application/vnd.jupyter.widget-view+json": {
       "model_id": "f09f6ea3dd0b46578a6ee63c27437564",
       "version_major": 2,
       "version_minor": 0
      },
      "text/plain": [
       "Tab(children=(Output(layout=Layout(max_height='600px', overflow='scroll', width='100%')), Output(layout=Layout…"
      ]
     },
     "metadata": {},
     "output_type": "display_data"
    }
   ],
   "source": [
    "%%gremlin\n",
    "\n",
    "g.addV('GeekTime')\n",
    "    .property(id,'conference-GeekTime')\n",
    "    .property('type','conference')\n",
    "    .property('name','GeekTime').next()"
   ]
  },
  {
   "cell_type": "markdown",
   "id": "e051ec4b",
   "metadata": {},
   "source": [
    "<div class=\"alert alert-block alert-info\">\n",
    "Link existing companies to the new GeekTime conference\n",
    "</div>"
   ]
  },
  {
   "cell_type": "code",
   "execution_count": 208,
   "id": "1d2389a9",
   "metadata": {},
   "outputs": [
    {
     "data": {
      "application/vnd.jupyter.widget-view+json": {
       "model_id": "6a1520ced19a4dde814d8e04212ece37",
       "version_major": 2,
       "version_minor": 0
      },
      "text/plain": [
       "Tab(children=(Output(layout=Layout(max_height='600px', overflow='scroll', width='100%')), Output(layout=Layout…"
      ]
     },
     "metadata": {},
     "output_type": "display_data"
    }
   ],
   "source": [
    "%%gremlin\n",
    "\n",
    "g.V('company-NI')\n",
    "    .addE('participate')\n",
    "    .to(__.V('conference-GeekTime'))\n",
    "    .property('type','participate')\n",
    "    .next()\n",
    "\n",
    "g.V('company-Proofpoint')\n",
    "    .addE('participate')\n",
    "    .to(__.V('conference-GeekTime'))\n",
    "    .property('type','participate')\n",
    "    .next()"
   ]
  },
  {
   "cell_type": "markdown",
   "id": "f7b771be",
   "metadata": {},
   "source": [
    "<div class=\"alert alert-block alert-info\">\n",
    "Lets take a look at the graph\n",
    "</div>"
   ]
  },
  {
   "cell_type": "code",
   "execution_count": 209,
   "id": "034c6e28",
   "metadata": {
    "scrolled": true
   },
   "outputs": [
    {
     "data": {
      "application/vnd.jupyter.widget-view+json": {
       "model_id": "1c6027c1303f45deb414d3e6539988aa",
       "version_major": 2,
       "version_minor": 0
      },
      "text/plain": [
       "Tab(children=(Output(layout=Layout(max_height='600px', overflow='scroll', width='100%')), Force(network=<graph…"
      ]
     },
     "metadata": {},
     "output_type": "display_data"
    }
   ],
   "source": [
    "%%gremlin\n",
    "\n",
    "g.V()\n",
    "    .bothE()\n",
    "    .otherV()\n",
    "    .path()"
   ]
  },
  {
   "cell_type": "markdown",
   "id": "d7c6ea97",
   "metadata": {},
   "source": [
    "<div class=\"alert alert-block alert-info\">\n",
    "Lets add both companies as sponsers for GeekTime conference\n",
    "</div>"
   ]
  },
  {
   "cell_type": "code",
   "execution_count": 118,
   "id": "cb4a0d7f",
   "metadata": {},
   "outputs": [
    {
     "data": {
      "application/vnd.jupyter.widget-view+json": {
       "model_id": "80a70633136e4e8eb44eb44703f3a6d2",
       "version_major": 2,
       "version_minor": 0
      },
      "text/plain": [
       "Tab(children=(Output(layout=Layout(max_height='600px', overflow='scroll', width='100%')), Output(layout=Layout…"
      ]
     },
     "metadata": {},
     "output_type": "display_data"
    }
   ],
   "source": [
    "%%gremlin\n",
    "    \n",
    "g.V().has('type','company')\n",
    "    // has(id, neq('company-NI'))\n",
    "    .as('a')\n",
    "    .V('conference-GeekTime')\n",
    "    .addE('sponser')\n",
    "    .to('a')\n",
    "    .property('type','sponser')"
   ]
  },
  {
   "cell_type": "markdown",
   "id": "96a6f5e8",
   "metadata": {},
   "source": [
    "<div class=\"alert alert-block alert-info\">\n",
    "Lets take a look at the graph again\n",
    "</div>"
   ]
  },
  {
   "cell_type": "code",
   "execution_count": 119,
   "id": "c1f8b2d1",
   "metadata": {},
   "outputs": [
    {
     "data": {
      "application/vnd.jupyter.widget-view+json": {
       "model_id": "c1304ea3080c486c9dae1b752e890626",
       "version_major": 2,
       "version_minor": 0
      },
      "text/plain": [
       "Tab(children=(Output(layout=Layout(max_height='600px', overflow='scroll', width='100%')), Force(network=<graph…"
      ]
     },
     "metadata": {},
     "output_type": "display_data"
    }
   ],
   "source": [
    "%%gremlin\n",
    "\n",
    "g.V()\n",
    "    .bothE()\n",
    "    .otherV()\n",
    "    .path()"
   ]
  },
  {
   "cell_type": "markdown",
   "id": "cb037e83",
   "metadata": {},
   "source": [
    "<div class=\"alert alert-block alert-info\">\n",
    "    <b>Some sophisticated queries</b>\n",
    "    <br/>\n",
    "    <br/>\n",
    "    1. what is the path between ohad and lior ?\n",
    "</div>"
   ]
  },
  {
   "cell_type": "code",
   "execution_count": 120,
   "id": "39ae749d",
   "metadata": {},
   "outputs": [
    {
     "data": {
      "application/vnd.jupyter.widget-view+json": {
       "model_id": "2cd0b809693640cd9f22a952f35419a4",
       "version_major": 2,
       "version_minor": 0
      },
      "text/plain": [
       "Tab(children=(Output(layout=Layout(max_height='600px', overflow='scroll', width='100%')), Force(network=<graph…"
      ]
     },
     "metadata": {},
     "output_type": "display_data"
    }
   ],
   "source": [
    "%%gremlin\n",
    "\n",
    "g.V('user-ohad')\n",
    "    .repeat(both()\n",
    "                .simplePath())\n",
    "    .until(hasId('user-lior'))\n",
    "    .path()"
   ]
  },
  {
   "cell_type": "markdown",
   "id": "28563fbb",
   "metadata": {},
   "source": [
    "<div class=\"alert alert-block alert-info\">\n",
    "2. what is the path between ohad and tal ?\n",
    "</div>"
   ]
  },
  {
   "cell_type": "code",
   "execution_count": 121,
   "id": "3a30ee16",
   "metadata": {},
   "outputs": [
    {
     "data": {
      "application/vnd.jupyter.widget-view+json": {
       "model_id": "a9a161a2edbc4a018a2e26d54b7cd6be",
       "version_major": 2,
       "version_minor": 0
      },
      "text/plain": [
       "Tab(children=(Output(layout=Layout(max_height='600px', overflow='scroll', width='100%')), Force(network=<graph…"
      ]
     },
     "metadata": {},
     "output_type": "display_data"
    }
   ],
   "source": [
    "%%gremlin\n",
    "\n",
    "g.V('user-ohad')\n",
    "    .repeat(both()\n",
    "                .simplePath())\n",
    "    .until(hasId('user-tal'))\n",
    "    .path()"
   ]
  },
  {
   "cell_type": "markdown",
   "id": "482036a1",
   "metadata": {},
   "source": [
    "<div class=\"alert alert-block alert-info\">\n",
    "3. how many nodes the path between ohad and tal contains ?\n",
    "</div>"
   ]
  },
  {
   "cell_type": "code",
   "execution_count": 122,
   "id": "bf7a6fbb",
   "metadata": {},
   "outputs": [
    {
     "data": {
      "application/vnd.jupyter.widget-view+json": {
       "model_id": "67b8ed444ecf4127ba7a0c579a4c6c07",
       "version_major": 2,
       "version_minor": 0
      },
      "text/plain": [
       "Tab(children=(Output(layout=Layout(max_height='600px', overflow='scroll', width='100%')), Output(layout=Layout…"
      ]
     },
     "metadata": {},
     "output_type": "display_data"
    }
   ],
   "source": [
    "%%gremlin\n",
    "\n",
    "g.V('user-ohad')\n",
    "    .repeat(both()\n",
    "                .simplePath())\n",
    "    .until(hasId('user-tal'))\n",
    "    .path()\n",
    "    .count(local)"
   ]
  },
  {
   "cell_type": "markdown",
   "id": "a5df9841",
   "metadata": {},
   "source": [
    "<div class=\"alert alert-block alert-info\">\n",
    "4. what is the path between ohad and everyone in the company Proofpoint ?\n",
    "</div>"
   ]
  },
  {
   "cell_type": "code",
   "execution_count": 123,
   "id": "5a40daf7",
   "metadata": {
    "scrolled": true
   },
   "outputs": [
    {
     "data": {
      "application/vnd.jupyter.widget-view+json": {
       "model_id": "9de166f6e3144d1e8cb996e7c4c0ba77",
       "version_major": 2,
       "version_minor": 0
      },
      "text/plain": [
       "Tab(children=(Output(layout=Layout(max_height='600px', overflow='scroll', width='100%')), Force(network=<graph…"
      ]
     },
     "metadata": {},
     "output_type": "display_data"
    }
   ],
   "source": [
    "%%gremlin\n",
    "\n",
    "g.V('user-ohad')\n",
    "    .repeat(both()\n",
    "                .simplePath())\n",
    "    .until(has('company','Proofpoint'))\n",
    "    .path()"
   ]
  },
  {
   "cell_type": "markdown",
   "id": "b5fcf383",
   "metadata": {},
   "source": [
    "<div class=\"alert alert-block alert-info\">\n",
    "    <b>Some statistics on the nodes</b>\n",
    "    <br/>\n",
    "    <br/>\n",
    "    1. count by label\n",
    "</div>"
   ]
  },
  {
   "cell_type": "code",
   "execution_count": 124,
   "id": "78da6d83",
   "metadata": {},
   "outputs": [
    {
     "data": {
      "application/vnd.jupyter.widget-view+json": {
       "model_id": "a7bbb0c8e2804354ba0421a5a2aec7b1",
       "version_major": 2,
       "version_minor": 0
      },
      "text/plain": [
       "Tab(children=(Output(layout=Layout(max_height='600px', overflow='scroll', width='100%')), Output(layout=Layout…"
      ]
     },
     "metadata": {},
     "output_type": "display_data"
    }
   ],
   "source": [
    "%%gremlin\n",
    "\n",
    "g.V()\n",
    "    .groupCount()\n",
    "    .by(label)\n",
    "    .order(local)\n",
    "    .by(values, Order.decr)\n",
    "    .unfold()"
   ]
  },
  {
   "cell_type": "markdown",
   "id": "2bbcf5b9",
   "metadata": {},
   "source": [
    "<div class=\"alert alert-block alert-info\">\n",
    "2. count by the property 'type'\n",
    "</div>"
   ]
  },
  {
   "cell_type": "code",
   "execution_count": 125,
   "id": "e5c805b0",
   "metadata": {},
   "outputs": [
    {
     "data": {
      "application/vnd.jupyter.widget-view+json": {
       "model_id": "988e6c7fe3cf4776a97e62361af1928e",
       "version_major": 2,
       "version_minor": 0
      },
      "text/plain": [
       "Tab(children=(Output(layout=Layout(max_height='600px', overflow='scroll', width='100%')), Output(layout=Layout…"
      ]
     },
     "metadata": {},
     "output_type": "display_data"
    }
   ],
   "source": [
    "%%gremlin\n",
    "\n",
    "g.V()\n",
    "    .groupCount()\n",
    "    .by('type')\n",
    "    .unfold()"
   ]
  },
  {
   "cell_type": "markdown",
   "id": "88e5748e",
   "metadata": {},
   "source": [
    "<div class=\"alert alert-block alert-info\">\n",
    "3. some statistcis on the edges\n",
    "</div>"
   ]
  },
  {
   "cell_type": "code",
   "execution_count": 126,
   "id": "b15628d7",
   "metadata": {},
   "outputs": [
    {
     "data": {
      "application/vnd.jupyter.widget-view+json": {
       "model_id": "61bdbc9b9a584a7f912f09473ce77d18",
       "version_major": 2,
       "version_minor": 0
      },
      "text/plain": [
       "Tab(children=(Output(layout=Layout(max_height='600px', overflow='scroll', width='100%')), Output(layout=Layout…"
      ]
     },
     "metadata": {},
     "output_type": "display_data"
    }
   ],
   "source": [
    "%%gremlin\n",
    "\n",
    "g.E()\n",
    "    .groupCount()\n",
    "    .by(label)\n",
    "    .order(local)\n",
    "    .by(values, Order.decr)\n",
    "    .unfold()"
   ]
  }
 ],
 "metadata": {
  "kernelspec": {
   "display_name": "Python 3",
   "language": "python",
   "name": "python3"
  },
  "language_info": {
   "codemirror_mode": {
    "name": "ipython",
    "version": 3
   },
   "file_extension": ".py",
   "mimetype": "text/x-python",
   "name": "python",
   "nbconvert_exporter": "python",
   "pygments_lexer": "ipython3",
   "version": "3.6.13"
  }
 },
 "nbformat": 4,
 "nbformat_minor": 5
}
